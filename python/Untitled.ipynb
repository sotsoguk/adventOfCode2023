{
 "cells": [
  {
   "cell_type": "code",
   "execution_count": 3,
   "id": "6c1a016e",
   "metadata": {},
   "outputs": [],
   "source": [
    "a= [0,0,0]\n",
    "\n",
    "b = [2,3,4]\n",
    "c = [1,5,2]\n",
    "\n",
    "d=max(a,b)"
   ]
  },
  {
   "cell_type": "code",
   "execution_count": 4,
   "id": "a7fa5224",
   "metadata": {},
   "outputs": [
    {
     "data": {
      "text/plain": [
       "[2, 3, 4]"
      ]
     },
     "execution_count": 4,
     "metadata": {},
     "output_type": "execute_result"
    }
   ],
   "source": [
    "d"
   ]
  },
  {
   "cell_type": "code",
   "execution_count": 6,
   "id": "7e16e806",
   "metadata": {},
   "outputs": [
    {
     "data": {
      "text/plain": [
       "[2, 5, 4]"
      ]
     },
     "execution_count": 6,
     "metadata": {},
     "output_type": "execute_result"
    }
   ],
   "source": [
    "[max(i,j) for i,j in zip(b,c)]"
   ]
  },
  {
   "cell_type": "code",
   "execution_count": null,
   "id": "22c893e1",
   "metadata": {},
   "outputs": [],
   "source": []
  }
 ],
 "metadata": {
  "kernelspec": {
   "display_name": "Python 3 (ipykernel)",
   "language": "python",
   "name": "python3"
  },
  "language_info": {
   "codemirror_mode": {
    "name": "ipython",
    "version": 3
   },
   "file_extension": ".py",
   "mimetype": "text/x-python",
   "name": "python",
   "nbconvert_exporter": "python",
   "pygments_lexer": "ipython3",
   "version": "3.11.5"
  }
 },
 "nbformat": 4,
 "nbformat_minor": 5
}
